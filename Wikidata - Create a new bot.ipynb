{
 "cells": [
  {
   "cell_type": "markdown",
   "metadata": {},
   "source": [
    "## Use pywikibot\n",
    "\n",
    "[pywikibot](https://www.mediawiki.org/wiki/Manual:Pywikibot) is a python library based on the Mediawiki API.\n",
    "In this notebook we will see how to use the API using Python with pywikibot and lay the groundwork to later develop a bot or tool for Wikidata.\n",
    "\n",
    "Use pywikibot for Wikidata:\n",
    "\n",
    "- https://www.mediawiki.org/wiki/Manual:Pywikibot/Wikidata\n",
    "- https://www.mediawiki.org/wiki/Manual:Pywikibot/Scripts#Wikidata\n",
    "- https://www.wikidata.org/wiki/Wikidata:Creating_a_bot"
   ]
  },
  {
   "cell_type": "code",
   "execution_count": null,
   "metadata": {},
   "outputs": [],
   "source": []
  }
 ],
 "metadata": {
  "kernelspec": {
   "display_name": "Python 3",
   "language": "python",
   "name": "python3"
  },
  "language_info": {
   "codemirror_mode": {
    "name": "ipython",
    "version": 3
   },
   "file_extension": ".py",
   "mimetype": "text/x-python",
   "name": "python",
   "nbconvert_exporter": "python",
   "pygments_lexer": "ipython3",
   "version": "3.7.3"
  }
 },
 "nbformat": 4,
 "nbformat_minor": 2
}
