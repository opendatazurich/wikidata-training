{
 "cells": [
  {
   "cell_type": "code",
   "execution_count": 13,
   "metadata": {},
   "outputs": [
    {
     "name": "stdout",
     "output_type": "stream",
     "text": [
      "Requirement already satisfied: requests in /srv/paws/lib/python3.6/site-packages\n",
      "Requirement already satisfied: python-dotenv in /srv/paws/lib/python3.6/site-packages\n",
      "Requirement already satisfied: chardet<3.1.0,>=3.0.2 in /srv/paws/lib/python3.6/site-packages (from requests)\n",
      "Requirement already satisfied: certifi>=2017.4.17 in /srv/paws/lib/python3.6/site-packages (from requests)\n",
      "Requirement already satisfied: urllib3!=1.25.0,!=1.25.1,<1.26,>=1.21.1 in /srv/paws/lib/python3.6/site-packages (from requests)\n",
      "Requirement already satisfied: idna<2.9,>=2.5 in /srv/paws/lib/python3.6/site-packages (from requests)\n"
     ]
    }
   ],
   "source": [
    "# install the dependencies\n",
    "!pip install requests python-dotenv"
   ]
  },
  {
   "cell_type": "code",
   "execution_count": 14,
   "metadata": {},
   "outputs": [],
   "source": [
    "import requests\n",
    "import pandas as pd\n",
    "from dotenv import load_dotenv\n",
    "import os\n",
    "\n",
    "load_dotenv()\n",
    "\n",
    "session = requests.Session()"
   ]
  },
  {
   "cell_type": "code",
   "execution_count": 15,
   "metadata": {},
   "outputs": [],
   "source": [
    "WIKIDATA_API_URL = 'https://www.wikidata.org/w/api.php'\n",
    "\n",
    "# sandbox item\n",
    "item = 'Q15397819'"
   ]
  },
  {
   "cell_type": "code",
   "execution_count": 16,
   "metadata": {},
   "outputs": [
    {
     "data": {
      "text/plain": [
       "{'entities': {'Q15397819': {'pageid': 17254039,\n",
       "   'ns': 0,\n",
       "   'title': 'Q15397819',\n",
       "   'lastrevid': 1043451618,\n",
       "   'modified': '2019-11-02T16:11:05Z',\n",
       "   'type': 'item',\n",
       "   'id': 'Q15397819',\n",
       "   'labels': {'ko': {'language': 'ko', 'value': '세 번째 연습장'},\n",
       "    'en': {'language': 'en', 'value': 'Wikidata Sandbox 3'},\n",
       "    'en-ca': {'language': 'en-ca', 'value': 'Third sandbox'},\n",
       "    'el': {'language': 'el', 'value': 'Τρίτο Πρόχειρο'},\n",
       "    'ru': {'language': 'ru', 'value': 'Песочница: Эпизод III'},\n",
       "    'zh-hans': {'language': 'zh-hans', 'value': '维基数据沙盒3'},\n",
       "    'mk': {'language': 'mk', 'value': 'Трет песочник'},\n",
       "    'eo': {'language': 'eo', 'value': 'tria provejo'},\n",
       "    'nl': {'language': 'nl', 'value': 'derde zandbak'},\n",
       "    'cs': {'language': 'cs', 'value': 'třetí pískoviště'},\n",
       "    'it': {'language': 'it', 'value': 'terza pagina delle prove'},\n",
       "    'sv': {'language': 'sv', 'value': 'Tredje sandlådan'},\n",
       "    'ja': {'language': 'ja', 'value': 'ウィキデータ・サンドボックス3'},\n",
       "    'fr': {'language': 'fr', 'value': 'troisième bac à sable de Wikidata'},\n",
       "    'nan': {'language': 'nan', 'value': 'Test2'},\n",
       "    'da': {'language': 'da', 'value': 'Wikidatas tredje sandkasse'},\n",
       "    'zh': {'language': 'zh', 'value': '维基数据沙盒3'},\n",
       "    'tr': {'language': 'tr', 'value': 'Kullanıcı mesaj:HakanIST/luatest'},\n",
       "    'fi': {'language': 'fi', 'value': 'Third sandbox'},\n",
       "    'es': {'language': 'es', 'value': 'Plantilla:Ficha de faro/test1'},\n",
       "    'de': {'language': 'de', 'value': 'Sandkasten 3'},\n",
       "    'gl': {'language': 'gl', 'value': 'Modelo:Faro/páxina de probas'},\n",
       "    'ar': {'language': 'ar', 'value': 'ملعب ويكي بيانات 3'}},\n",
       "   'descriptions': {'gl': {'language': 'gl',\n",
       "     'value': 'Páxina de probas de Wikipedia'},\n",
       "    'fr': {'language': 'fr',\n",
       "     'value': 'bac à sable pour amuser les contributeurs'}},\n",
       "   'aliases': {'nan': [{'language': 'nan', 'value': 'Test'}],\n",
       "    'fr': [{'language': 'fr', 'value': 'bac à sable 3'}]},\n",
       "   'claims': {'P31': [{'mainsnak': {'snaktype': 'value',\n",
       "       'property': 'P31',\n",
       "       'hash': 'e5ef3cd1a671227be40e6978474d86d17df8cbb4',\n",
       "       'datavalue': {'value': {'entity-type': 'item',\n",
       "         'numeric-id': 14204246,\n",
       "         'id': 'Q14204246'},\n",
       "        'type': 'wikibase-entityid'},\n",
       "       'datatype': 'wikibase-item'},\n",
       "      'type': 'statement',\n",
       "      'id': 'Q15397819$db64e926-46bb-5001-a673-23dfbb1a0132',\n",
       "      'rank': 'normal'}]},\n",
       "   'sitelinks': {'eswiki': {'site': 'eswiki',\n",
       "     'title': 'Plantilla:Ficha de faro/zona de pruebas',\n",
       "     'badges': []},\n",
       "    'frwiki': {'site': 'frwiki',\n",
       "     'title': 'Modèle:Infobox Phare/Test',\n",
       "     'badges': []},\n",
       "    'trwiki': {'site': 'trwiki',\n",
       "     'title': 'Kullanıcı mesaj:HakanIST/luatest',\n",
       "     'badges': []},\n",
       "    'wikidatawiki': {'site': 'wikidatawiki',\n",
       "     'title': 'Wikidata:Sandbox/3',\n",
       "     'badges': []}}}},\n",
       " 'success': 1}"
      ]
     },
     "execution_count": 16,
     "metadata": {},
     "output_type": "execute_result"
    }
   ],
   "source": [
    "res = session.get(WIKIDATA_API_URL, params={\n",
    "    'action': 'wbgetentities',\n",
    "    'ids': item,\n",
    "    'format': 'json',\n",
    "})\n",
    "result = res.json()\n",
    "result"
   ]
  },
  {
   "cell_type": "code",
   "execution_count": 17,
   "metadata": {},
   "outputs": [
    {
     "data": {
      "text/plain": [
       "{'login': {'result': 'Success', 'lguserid': 733408, 'lgusername': 'Metaodi'}}"
      ]
     },
     "execution_count": 17,
     "metadata": {},
     "output_type": "execute_result"
    }
   ],
   "source": [
    "# login to wikidata\n",
    "# Note: the login is saved in the requests session (i.e. in the cookies)\n",
    "#       so make sure to use the same session for all subsequent calls\n",
    "res = session.get(WIKIDATA_API_URL, params={\n",
    "    'action': 'query',\n",
    "    'meta': 'tokens',\n",
    "    'type': 'login',\n",
    "    'format': 'json',\n",
    "})\n",
    "tokens = res.json()['query']['tokens']\n",
    "\n",
    "res = session.post(WIKIDATA_API_URL, data={\n",
    "    'action': 'login',\n",
    "    'lgname': os.environ['BOT'],\n",
    "    'lgpassword': os.environ['BOT_PW'],\n",
    "    'lgtoken': tokens['logintoken'],\n",
    "    'format': 'json'\n",
    "})\n",
    "login = res.json()\n",
    "login"
   ]
  },
  {
   "cell_type": "code",
   "execution_count": 18,
   "metadata": {},
   "outputs": [
    {
     "data": {
      "text/plain": [
       "{'entity': {'descriptions': {'en': {'language': 'en',\n",
       "    'value': 'My super wikidata bot'}},\n",
       "  'id': 'Q15397819',\n",
       "  'type': 'item',\n",
       "  'lastrevid': 1043453079},\n",
       " 'success': 1}"
      ]
     },
     "execution_count": 18,
     "metadata": {},
     "output_type": "execute_result"
    }
   ],
   "source": [
    "# generate csrf token\n",
    "res = session.get(WIKIDATA_API_URL, params={\n",
    "    'action': 'query',\n",
    "    'meta': 'tokens',\n",
    "    'type': 'csrf',\n",
    "    'format': 'json',\n",
    "})\n",
    "csrf = res.json()['query']['tokens']['csrftoken']\n",
    "csrf\n",
    "\n",
    "# update description of sandbox item\n",
    "res = session.post(WIKIDATA_API_URL, data={\n",
    "    'action': 'wbsetdescription',\n",
    "    'id': item,\n",
    "    'token': csrf,\n",
    "    'language': 'en',\n",
    "    'value': 'My super wikidata bot',\n",
    "    'format': 'json',\n",
    "})\n",
    "res.json()"
   ]
  },
  {
   "cell_type": "code",
   "execution_count": 25,
   "metadata": {},
   "outputs": [
    {
     "data": {
      "text/plain": [
       "{'language': 'en', 'value': 'My super wikidata bot'}"
      ]
     },
     "execution_count": 25,
     "metadata": {},
     "output_type": "execute_result"
    }
   ],
   "source": [
    "# request the item again\n",
    "res = session.get(WIKIDATA_API_URL, params={\n",
    "    'action': 'wbgetentities',\n",
    "    'ids': item,\n",
    "    'format': 'json',\n",
    "})\n",
    "result = res.json()\n",
    "result['entities']['Q15397819']['descriptions']['en']"
   ]
  }
 ],
 "metadata": {
  "kernelspec": {
   "display_name": "Python 3",
   "language": "python",
   "name": "python3"
  },
  "language_info": {
   "codemirror_mode": {
    "name": "ipython",
    "version": 3
   },
   "file_extension": ".py",
   "mimetype": "text/x-python",
   "name": "python",
   "nbconvert_exporter": "python",
   "pygments_lexer": "ipython3",
   "version": "3.6.7"
  }
 },
 "nbformat": 4,
 "nbformat_minor": 2
}
