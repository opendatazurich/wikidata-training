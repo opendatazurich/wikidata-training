{
 "cells": [
  {
   "cell_type": "markdown",
   "metadata": {},
   "source": [
    "## Wikidata API Example\n",
    "\n",
    "This notebook demonstrates the usage of the Mediawiki API to get and save information on Wikidata.\n",
    "\n",
    "* Create a new bot username and password: https://www.wikidata.org/wiki/Special:BotPasswords\n",
    "* Create a file env.txt to save the values like that:\n",
    "```\n",
    "BOT_NAME=Metaodi@WikidataTrainingBot\n",
    "BOT_PASSWORD=lkjdlkjjhoihnfjohshakklks\n",
    "```"
   ]
  },
  {
   "cell_type": "code",
   "execution_count": 26,
   "metadata": {},
   "outputs": [
    {
     "name": "stdout",
     "output_type": "stream",
     "text": [
      "Requirement already satisfied: requests in /srv/paws/lib/python3.6/site-packages\n",
      "Requirement already satisfied: python-dotenv in /srv/paws/lib/python3.6/site-packages\n",
      "Requirement already satisfied: urllib3!=1.25.0,!=1.25.1,<1.26,>=1.21.1 in /srv/paws/lib/python3.6/site-packages (from requests)\n",
      "Requirement already satisfied: chardet<3.1.0,>=3.0.2 in /srv/paws/lib/python3.6/site-packages (from requests)\n",
      "Requirement already satisfied: idna<2.9,>=2.5 in /srv/paws/lib/python3.6/site-packages (from requests)\n",
      "Requirement already satisfied: certifi>=2017.4.17 in /srv/paws/lib/python3.6/site-packages (from requests)\n"
     ]
    }
   ],
   "source": [
    "# install the dependencies\n",
    "!pip install requests python-dotenv"
   ]
  },
  {
   "cell_type": "code",
   "execution_count": 27,
   "metadata": {},
   "outputs": [],
   "source": [
    "import requests\n",
    "import pandas as pd\n",
    "from dotenv import load_dotenv\n",
    "import os\n",
    "import datetime\n",
    "\n",
    "# load environment variables from .env files (to store sensitive information like passwords)\n",
    "load_dotenv(dotenv_path='env.txt')\n",
    "\n",
    "session = requests.Session()"
   ]
  },
  {
   "cell_type": "markdown",
   "metadata": {},
   "source": [
    "## Request an item from the API"
   ]
  },
  {
   "cell_type": "code",
   "execution_count": 28,
   "metadata": {},
   "outputs": [],
   "source": [
    "WIKIDATA_API_URL = 'https://www.wikidata.org/w/api.php'\n",
    "\n",
    "# sandbox item\n",
    "item = 'Q15397819'"
   ]
  },
  {
   "cell_type": "code",
   "execution_count": 29,
   "metadata": {},
   "outputs": [
    {
     "data": {
      "text/plain": [
       "{'entities': {'Q15397819': {'pageid': 17254039,\n",
       "   'ns': 0,\n",
       "   'title': 'Q15397819',\n",
       "   'lastrevid': 1043569022,\n",
       "   'modified': '2019-11-02T20:13:14Z',\n",
       "   'type': 'item',\n",
       "   'id': 'Q15397819',\n",
       "   'labels': {'ko': {'language': 'ko', 'value': '세 번째 연습장'},\n",
       "    'en': {'language': 'en', 'value': 'Wikidata Sandbox 3'},\n",
       "    'en-ca': {'language': 'en-ca', 'value': 'Third sandbox'},\n",
       "    'el': {'language': 'el', 'value': 'Τρίτο Πρόχειρο'},\n",
       "    'ru': {'language': 'ru', 'value': 'Песочница: Эпизод III'},\n",
       "    'zh-hans': {'language': 'zh-hans', 'value': '维基数据沙盒3'},\n",
       "    'mk': {'language': 'mk', 'value': 'Трет песочник'},\n",
       "    'eo': {'language': 'eo', 'value': 'tria provejo'},\n",
       "    'nl': {'language': 'nl', 'value': 'derde zandbak'},\n",
       "    'cs': {'language': 'cs', 'value': 'třetí pískoviště'},\n",
       "    'it': {'language': 'it', 'value': 'terza pagina delle prove'},\n",
       "    'sv': {'language': 'sv', 'value': 'Tredje sandlådan'},\n",
       "    'ja': {'language': 'ja', 'value': 'ウィキデータ・サンドボックス3'},\n",
       "    'fr': {'language': 'fr', 'value': 'troisième bac à sable de Wikidata'},\n",
       "    'nan': {'language': 'nan', 'value': 'Test2'},\n",
       "    'da': {'language': 'da', 'value': 'Wikidatas tredje sandkasse'},\n",
       "    'zh': {'language': 'zh', 'value': '维基数据沙盒3'},\n",
       "    'tr': {'language': 'tr', 'value': 'Kullanıcı mesaj:HakanIST/luatest'},\n",
       "    'fi': {'language': 'fi', 'value': 'Third sandbox'},\n",
       "    'es': {'language': 'es', 'value': 'Plantilla:Ficha de faro/test1'},\n",
       "    'de': {'language': 'de', 'value': 'Sandkasten 3'},\n",
       "    'gl': {'language': 'gl', 'value': 'Modelo:Faro/páxina de probas'},\n",
       "    'ar': {'language': 'ar', 'value': 'ملعب ويكي بيانات 3'}},\n",
       "   'descriptions': {'gl': {'language': 'gl',\n",
       "     'value': 'Páxina de probas de Wikipedia'},\n",
       "    'fr': {'language': 'fr',\n",
       "     'value': 'bac à sable pour amuser les contributeurs'},\n",
       "    'en': {'language': 'en',\n",
       "     'value': 'My super wikidata bot, current time: 2019-11-02T19:53:40.301974'}},\n",
       "   'aliases': {'nan': [{'language': 'nan', 'value': 'Test'}],\n",
       "    'fr': [{'language': 'fr', 'value': 'bac à sable 3'}]},\n",
       "   'claims': {'P31': [{'mainsnak': {'snaktype': 'value',\n",
       "       'property': 'P31',\n",
       "       'hash': 'e5ef3cd1a671227be40e6978474d86d17df8cbb4',\n",
       "       'datavalue': {'value': {'entity-type': 'item',\n",
       "         'numeric-id': 14204246,\n",
       "         'id': 'Q14204246'},\n",
       "        'type': 'wikibase-entityid'},\n",
       "       'datatype': 'wikibase-item'},\n",
       "      'type': 'statement',\n",
       "      'id': 'Q15397819$db64e926-46bb-5001-a673-23dfbb1a0132',\n",
       "      'rank': 'normal'},\n",
       "     {'mainsnak': {'snaktype': 'value',\n",
       "       'property': 'P31',\n",
       "       'hash': 'ad7d38a03cdd40cdc373de0dc4e7b7fcbccb31d9',\n",
       "       'datavalue': {'value': {'entity-type': 'item',\n",
       "         'numeric-id': 5,\n",
       "         'id': 'Q5'},\n",
       "        'type': 'wikibase-entityid'},\n",
       "       'datatype': 'wikibase-item'},\n",
       "      'type': 'statement',\n",
       "      'id': 'Q15397819$A79B0AF3-5ED6-41D2-ADBF-0C2239146B7F',\n",
       "      'rank': 'normal'}]},\n",
       "   'sitelinks': {'eswiki': {'site': 'eswiki',\n",
       "     'title': 'Plantilla:Ficha de faro/zona de pruebas',\n",
       "     'badges': []},\n",
       "    'frwiki': {'site': 'frwiki',\n",
       "     'title': 'Modèle:Infobox Phare/Test',\n",
       "     'badges': []},\n",
       "    'trwiki': {'site': 'trwiki',\n",
       "     'title': 'Kullanıcı mesaj:HakanIST/luatest',\n",
       "     'badges': []},\n",
       "    'wikidatawiki': {'site': 'wikidatawiki',\n",
       "     'title': 'Wikidata:Sandbox/3',\n",
       "     'badges': []}}}},\n",
       " 'success': 1}"
      ]
     },
     "execution_count": 29,
     "metadata": {},
     "output_type": "execute_result"
    }
   ],
   "source": [
    "res = session.get(WIKIDATA_API_URL, params={\n",
    "    'action': 'wbgetentities',\n",
    "    'ids': item,\n",
    "    'format': 'json',\n",
    "})\n",
    "result = res.json()\n",
    "result"
   ]
  },
  {
   "cell_type": "markdown",
   "metadata": {},
   "source": [
    "## Login to Wikidata"
   ]
  },
  {
   "cell_type": "code",
   "execution_count": 30,
   "metadata": {},
   "outputs": [
    {
     "data": {
      "text/plain": [
       "{'login': {'result': 'Success', 'lguserid': 733408, 'lgusername': 'Metaodi'}}"
      ]
     },
     "execution_count": 30,
     "metadata": {},
     "output_type": "execute_result"
    }
   ],
   "source": [
    "# login to wikidata\n",
    "# Note: the login is saved in the requests session (i.e. in the cookies)\n",
    "#       so make sure to use the same session for all subsequent calls\n",
    "res = session.get(WIKIDATA_API_URL, params={\n",
    "    'action': 'query',\n",
    "    'meta': 'tokens',\n",
    "    'type': 'login',\n",
    "    'format': 'json',\n",
    "})\n",
    "tokens = res.json()['query']['tokens']\n",
    "\n",
    "res = session.post(WIKIDATA_API_URL, data={\n",
    "    'action': 'login',\n",
    "    'lgname': os.getenv('BOT_NAME'),\n",
    "    'lgpassword': os.getenv('BOT_PASSWORD'),\n",
    "    'lgtoken': tokens['logintoken'],\n",
    "    'format': 'json'\n",
    "})\n",
    "login = res.json()\n",
    "login"
   ]
  },
  {
   "cell_type": "markdown",
   "metadata": {},
   "source": [
    "## Update the description of an item (+CSRF)"
   ]
  },
  {
   "cell_type": "code",
   "execution_count": 31,
   "metadata": {},
   "outputs": [
    {
     "data": {
      "text/plain": [
       "{'entity': {'descriptions': {'en': {'language': 'en',\n",
       "    'value': 'My super wikidata bot, current time: 2019-11-02T20:14:42.285335'}},\n",
       "  'id': 'Q15397819',\n",
       "  'type': 'item',\n",
       "  'lastrevid': 1043569760},\n",
       " 'success': 1}"
      ]
     },
     "execution_count": 31,
     "metadata": {},
     "output_type": "execute_result"
    }
   ],
   "source": [
    "# generate csrf token\n",
    "res = session.get(WIKIDATA_API_URL, params={\n",
    "    'action': 'query',\n",
    "    'meta': 'tokens',\n",
    "    'type': 'csrf',\n",
    "    'format': 'json',\n",
    "})\n",
    "csrf = res.json()['query']['tokens']['csrftoken']\n",
    "csrf\n",
    "\n",
    "now = datetime.datetime.now()\n",
    "# update description of sandbox item\n",
    "res = session.post(WIKIDATA_API_URL, data={\n",
    "    'action': 'wbsetdescription',\n",
    "    'id': item,\n",
    "    'token': csrf,\n",
    "    'language': 'en',\n",
    "    'value': 'My super wikidata bot, current time: %s' % now.isoformat(),\n",
    "    'format': 'json',\n",
    "})\n",
    "res.json()"
   ]
  },
  {
   "cell_type": "code",
   "execution_count": 32,
   "metadata": {},
   "outputs": [
    {
     "data": {
      "text/plain": [
       "{'language': 'en',\n",
       " 'value': 'My super wikidata bot, current time: 2019-11-02T20:14:42.285335'}"
      ]
     },
     "execution_count": 32,
     "metadata": {},
     "output_type": "execute_result"
    }
   ],
   "source": [
    "# request the item again\n",
    "res = session.get(WIKIDATA_API_URL, params={\n",
    "    'action': 'wbgetentities',\n",
    "    'ids': item,\n",
    "    'format': 'json',\n",
    "})\n",
    "result = res.json()\n",
    "result['entities']['Q15397819']['descriptions']['en']"
   ]
  },
  {
   "cell_type": "markdown",
   "metadata": {},
   "source": [
    "## Let's add a triple\n",
    "\n",
    "To add a triple, we use the [`wbcreateclaim`](https://www.wikidata.org/w/api.php?action=help&modules=wbcreateclaim) action. Let's see what parameters are needed."
   ]
  },
  {
   "cell_type": "code",
   "execution_count": 37,
   "metadata": {},
   "outputs": [
    {
     "data": {
      "text/plain": [
       "{'error': {'code': 'invalid-snak',\n",
       "  'info': 'Invalid snak data.',\n",
       "  'messages': [{'name': 'wikibase-api-invalid-snak',\n",
       "    'parameters': [],\n",
       "    'html': {'*': 'Invalid snak data.'}}],\n",
       "  '*': 'See https://www.wikidata.org/w/api.php for API usage. Subscribe to the mediawiki-api-announce mailing list at &lt;https://lists.wikimedia.org/mailman/listinfo/mediawiki-api-announce&gt; for notice of API deprecations and breaking changes.'},\n",
       " 'servedby': 'mw1315'}"
      ]
     },
     "execution_count": 37,
     "metadata": {},
     "output_type": "execute_result"
    }
   ],
   "source": [
    "# generate csrf token\n",
    "res = session.get(WIKIDATA_API_URL, params={\n",
    "    'action': 'query',\n",
    "    'meta': 'tokens',\n",
    "    'type': 'csrf',\n",
    "    'format': 'json',\n",
    "})\n",
    "csrf = res.json()['query']['tokens']['csrftoken']\n",
    "csrf\n",
    "\n",
    "# add triple to item\n",
    "res = session.post(WIKIDATA_API_URL, data={\n",
    "    'action': 'wbcreateclaim',\n",
    "    'entity': item,\n",
    "    'token': csrf,\n",
    "    'snaktype': 'value',\n",
    "    'property': 'P106',\n",
    "    'value': {'entity-type': 'item', 'numeric-id': 212238},\n",
    "    'format': 'json',\n",
    "})\n",
    "res.json()"
   ]
  },
  {
   "cell_type": "code",
   "execution_count": null,
   "metadata": {},
   "outputs": [],
   "source": []
  }
 ],
 "metadata": {
  "kernelspec": {
   "display_name": "Python 3",
   "language": "python",
   "name": "python3"
  },
  "language_info": {
   "codemirror_mode": {
    "name": "ipython",
    "version": 3
   },
   "file_extension": ".py",
   "mimetype": "text/x-python",
   "name": "python",
   "nbconvert_exporter": "python",
   "pygments_lexer": "ipython3",
   "version": "3.6.7"
  }
 },
 "nbformat": 4,
 "nbformat_minor": 2
}
