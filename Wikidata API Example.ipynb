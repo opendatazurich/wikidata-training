{
 "cells": [
  {
   "cell_type": "markdown",
   "metadata": {
    "slideshow": {
     "slide_type": "slide"
    }
   },
   "source": [
    "# Wikidata API Example\n",
    "\n",
    "This notebook demonstrates the usage of the Mediawiki API to get and save information on Wikidata."
   ]
  },
  {
   "cell_type": "markdown",
   "metadata": {
    "slideshow": {
     "slide_type": "subslide"
    }
   },
   "source": [
    "* Create a new bot username and password: https://www.wikidata.org/wiki/Special:BotPasswords\n",
    "* Create a file env.txt to save the values like that:\n",
    "```\n",
    "BOT_NAME=Metaodi@WikidataTrainingBot\n",
    "BOT_PASSWORD=lkjdlkjjhoihnfjohshakklks\n",
    "```"
   ]
  },
  {
   "cell_type": "code",
   "execution_count": 12,
   "metadata": {
    "slideshow": {
     "slide_type": "notes"
    }
   },
   "outputs": [
    {
     "name": "stdout",
     "output_type": "stream",
     "text": [
      "\u001b[33mDEPRECATION: Python 2.7 will reach the end of its life on January 1st, 2020. Please upgrade your Python as Python 2.7 won't be maintained after that date. A future version of pip will drop support for Python 2.7. More details about Python 2 support in pip, can be found at https://pip.pypa.io/en/latest/development/release-process/#python-2-support\u001b[0m\n",
      "Requirement already satisfied: requests in /home/odi/dev/pyenv/lib/python2.7/site-packages (2.20.0)\n",
      "Requirement already satisfied: python-dotenv in /home/odi/dev/pyenv/lib/python2.7/site-packages (0.8.2)\n",
      "Requirement already satisfied: idna<2.8,>=2.5 in /home/odi/dev/pyenv/lib/python2.7/site-packages (from requests) (2.6)\n",
      "Requirement already satisfied: urllib3<1.25,>=1.21.1 in /home/odi/dev/pyenv/lib/python2.7/site-packages (from requests) (1.22)\n",
      "Requirement already satisfied: chardet<3.1.0,>=3.0.2 in /home/odi/dev/pyenv/lib/python2.7/site-packages (from requests) (3.0.4)\n",
      "Requirement already satisfied: certifi>=2017.4.17 in /home/odi/dev/pyenv/lib/python2.7/site-packages (from requests) (2017.7.27.1)\n"
     ]
    }
   ],
   "source": [
    "# install the dependencies\n",
    "!pip install requests python-dotenv"
   ]
  },
  {
   "cell_type": "code",
   "execution_count": 13,
   "metadata": {
    "slideshow": {
     "slide_type": "slide"
    }
   },
   "outputs": [],
   "source": [
    "import requests\n",
    "import pandas as pd\n",
    "from dotenv import load_dotenv\n",
    "import os\n",
    "import datetime\n",
    "\n",
    "# load environment variables from .env files (to store sensitive information like passwords)\n",
    "load_dotenv(dotenv_path='env.txt')\n",
    "\n",
    "session = requests.Session()"
   ]
  },
  {
   "cell_type": "markdown",
   "metadata": {
    "slideshow": {
     "slide_type": "slide"
    }
   },
   "source": [
    "## Request an item from the API"
   ]
  },
  {
   "cell_type": "code",
   "execution_count": 16,
   "metadata": {
    "slideshow": {
     "slide_type": "subslide"
    }
   },
   "outputs": [],
   "source": [
    "WIKIDATA_API_URL = 'https://www.wikidata.org/w/api.php'\n",
    "\n",
    "# sandbox item\n",
    "item = 'Q15397819'"
   ]
  },
  {
   "cell_type": "code",
   "execution_count": 17,
   "metadata": {
    "slideshow": {
     "slide_type": "subslide"
    }
   },
   "outputs": [
    {
     "data": {
      "text/plain": [
       "{u'entities': {u'Q15397819': {u'aliases': {u'fr': [{u'language': u'fr',\n",
       "      u'value': u'bac \\xe0 sable 3'}],\n",
       "    u'nan': [{u'language': u'nan', u'value': u'Test'}]},\n",
       "   u'claims': {u'P31': [{u'id': u'Q15397819$db64e926-46bb-5001-a673-23dfbb1a0132',\n",
       "      u'mainsnak': {u'datatype': u'wikibase-item',\n",
       "       u'datavalue': {u'type': u'wikibase-entityid',\n",
       "        u'value': {u'entity-type': u'item',\n",
       "         u'id': u'Q14204246',\n",
       "         u'numeric-id': 14204246}},\n",
       "       u'hash': u'e5ef3cd1a671227be40e6978474d86d17df8cbb4',\n",
       "       u'property': u'P31',\n",
       "       u'snaktype': u'value'},\n",
       "      u'rank': u'normal',\n",
       "      u'type': u'statement'},\n",
       "     {u'id': u'Q15397819$A79B0AF3-5ED6-41D2-ADBF-0C2239146B7F',\n",
       "      u'mainsnak': {u'datatype': u'wikibase-item',\n",
       "       u'datavalue': {u'type': u'wikibase-entityid',\n",
       "        u'value': {u'entity-type': u'item', u'id': u'Q5', u'numeric-id': 5}},\n",
       "       u'hash': u'ad7d38a03cdd40cdc373de0dc4e7b7fcbccb31d9',\n",
       "       u'property': u'P31',\n",
       "       u'snaktype': u'value'},\n",
       "      u'rank': u'normal',\n",
       "      u'type': u'statement'}]},\n",
       "   u'descriptions': {u'en': {u'language': u'en',\n",
       "     u'value': u'My super wikidata bot, current time: 2019-11-02T20:14:42.285335'},\n",
       "    u'fr': {u'language': u'fr',\n",
       "     u'value': u'bac \\xe0 sable pour amuser les contributeurs'},\n",
       "    u'gl': {u'language': u'gl',\n",
       "     u'value': u'P\\xe1xina de probas de Wikipedia'}},\n",
       "   u'id': u'Q15397819',\n",
       "   u'labels': {u'ar': {u'language': u'ar',\n",
       "     u'value': u'\\u0645\\u0644\\u0639\\u0628 \\u0648\\u064a\\u0643\\u064a \\u0628\\u064a\\u0627\\u0646\\u0627\\u062a 3'},\n",
       "    u'cs': {u'language': u'cs',\n",
       "     u'value': u't\\u0159et\\xed p\\xedskovi\\u0161t\\u011b'},\n",
       "    u'da': {u'language': u'da', u'value': u'Wikidatas tredje sandkasse'},\n",
       "    u'de': {u'language': u'de', u'value': u'Sandkasten 3'},\n",
       "    u'el': {u'language': u'el',\n",
       "     u'value': u'\\u03a4\\u03c1\\u03af\\u03c4\\u03bf \\u03a0\\u03c1\\u03cc\\u03c7\\u03b5\\u03b9\\u03c1\\u03bf'},\n",
       "    u'en': {u'language': u'en', u'value': u'Wikidata Sandbox 3'},\n",
       "    u'en-ca': {u'language': u'en-ca', u'value': u'Third sandbox'},\n",
       "    u'eo': {u'language': u'eo', u'value': u'tria provejo'},\n",
       "    u'es': {u'language': u'es', u'value': u'Plantilla:Ficha de faro/test1'},\n",
       "    u'fi': {u'language': u'fi', u'value': u'Third sandbox'},\n",
       "    u'fr': {u'language': u'fr',\n",
       "     u'value': u'troisi\\xe8me bac \\xe0 sable de Wikidata'},\n",
       "    u'gl': {u'language': u'gl', u'value': u'Modelo:Faro/p\\xe1xina de probas'},\n",
       "    u'it': {u'language': u'it', u'value': u'terza pagina delle prove'},\n",
       "    u'ja': {u'language': u'ja',\n",
       "     u'value': u'\\u30a6\\u30a3\\u30ad\\u30c7\\u30fc\\u30bf\\u30fb\\u30b5\\u30f3\\u30c9\\u30dc\\u30c3\\u30af\\u30b93'},\n",
       "    u'ko': {u'language': u'ko',\n",
       "     u'value': u'\\uc138 \\ubc88\\uc9f8 \\uc5f0\\uc2b5\\uc7a5'},\n",
       "    u'mk': {u'language': u'mk',\n",
       "     u'value': u'\\u0422\\u0440\\u0435\\u0442 \\u043f\\u0435\\u0441\\u043e\\u0447\\u043d\\u0438\\u043a'},\n",
       "    u'nan': {u'language': u'nan', u'value': u'Test2'},\n",
       "    u'nl': {u'language': u'nl', u'value': u'derde zandbak'},\n",
       "    u'ru': {u'language': u'ru',\n",
       "     u'value': u'\\u041f\\u0435\\u0441\\u043e\\u0447\\u043d\\u0438\\u0446\\u0430: \\u042d\\u043f\\u0438\\u0437\\u043e\\u0434 III'},\n",
       "    u'sv': {u'language': u'sv', u'value': u'Tredje sandl\\xe5dan'},\n",
       "    u'tr': {u'language': u'tr',\n",
       "     u'value': u'Kullan\\u0131c\\u0131 mesaj:HakanIST/luatest'},\n",
       "    u'zh': {u'language': u'zh',\n",
       "     u'value': u'\\u7ef4\\u57fa\\u6570\\u636e\\u6c99\\u76d23'},\n",
       "    u'zh-hans': {u'language': u'zh-hans',\n",
       "     u'value': u'\\u7ef4\\u57fa\\u6570\\u636e\\u6c99\\u76d23'}},\n",
       "   u'lastrevid': 1043569760,\n",
       "   u'modified': u'2019-11-02T20:14:42Z',\n",
       "   u'ns': 0,\n",
       "   u'pageid': 17254039,\n",
       "   u'sitelinks': {u'eswiki': {u'badges': [],\n",
       "     u'site': u'eswiki',\n",
       "     u'title': u'Plantilla:Ficha de faro/zona de pruebas'},\n",
       "    u'frwiki': {u'badges': [],\n",
       "     u'site': u'frwiki',\n",
       "     u'title': u'Mod\\xe8le:Infobox Phare/Test'},\n",
       "    u'trwiki': {u'badges': [],\n",
       "     u'site': u'trwiki',\n",
       "     u'title': u'Kullan\\u0131c\\u0131 mesaj:HakanIST/luatest'},\n",
       "    u'wikidatawiki': {u'badges': [],\n",
       "     u'site': u'wikidatawiki',\n",
       "     u'title': u'Wikidata:Sandbox/3'}},\n",
       "   u'title': u'Q15397819',\n",
       "   u'type': u'item'}},\n",
       " u'success': 1}"
      ]
     },
     "execution_count": 17,
     "metadata": {},
     "output_type": "execute_result"
    }
   ],
   "source": [
    "res = session.get(WIKIDATA_API_URL, params={\n",
    "    'action': 'wbgetentities',\n",
    "    'ids': item,\n",
    "    'format': 'json',\n",
    "})\n",
    "result = res.json()\n",
    "result"
   ]
  },
  {
   "cell_type": "markdown",
   "metadata": {
    "slideshow": {
     "slide_type": "slide"
    }
   },
   "source": [
    "## Login to Wikidata"
   ]
  },
  {
   "cell_type": "code",
   "execution_count": 18,
   "metadata": {
    "slideshow": {
     "slide_type": "subslide"
    }
   },
   "outputs": [
    {
     "data": {
      "text/plain": [
       "{u'login': {u'reason': u'The supplied credentials could not be authenticated.',\n",
       "  u'result': u'Failed'}}"
      ]
     },
     "execution_count": 18,
     "metadata": {},
     "output_type": "execute_result"
    }
   ],
   "source": [
    "# login to wikidata\n",
    "# Note: the login is saved in the requests session (i.e. in the cookies)\n",
    "#       so make sure to use the same session for all subsequent calls\n",
    "res = session.get(WIKIDATA_API_URL, params={\n",
    "    'action': 'query',\n",
    "    'meta': 'tokens',\n",
    "    'type': 'login',\n",
    "    'format': 'json',\n",
    "})\n",
    "tokens = res.json()['query']['tokens']\n",
    "\n",
    "res = session.post(WIKIDATA_API_URL, data={\n",
    "    'action': 'login',\n",
    "    'lgname': os.getenv('BOT_NAME'),\n",
    "    'lgpassword': os.getenv('BOT_PASSWORD'),\n",
    "    'lgtoken': tokens['logintoken'],\n",
    "    'format': 'json'\n",
    "})\n",
    "login = res.json()\n",
    "login"
   ]
  },
  {
   "cell_type": "markdown",
   "metadata": {
    "slideshow": {
     "slide_type": "slide"
    }
   },
   "source": [
    "## Update the description of an item (+CSRF)"
   ]
  },
  {
   "cell_type": "code",
   "execution_count": 31,
   "metadata": {
    "slideshow": {
     "slide_type": "subslide"
    }
   },
   "outputs": [
    {
     "data": {
      "text/plain": [
       "{'entity': {'descriptions': {'en': {'language': 'en',\n",
       "    'value': 'My super wikidata bot, current time: 2019-11-02T20:14:42.285335'}},\n",
       "  'id': 'Q15397819',\n",
       "  'type': 'item',\n",
       "  'lastrevid': 1043569760},\n",
       " 'success': 1}"
      ]
     },
     "execution_count": 31,
     "metadata": {},
     "output_type": "execute_result"
    }
   ],
   "source": [
    "# generate csrf token\n",
    "res = session.get(WIKIDATA_API_URL, params={\n",
    "    'action': 'query',\n",
    "    'meta': 'tokens',\n",
    "    'type': 'csrf',\n",
    "    'format': 'json',\n",
    "})\n",
    "csrf = res.json()['query']['tokens']['csrftoken']\n",
    "csrf\n",
    "\n",
    "now = datetime.datetime.now()\n",
    "# update description of sandbox item\n",
    "res = session.post(WIKIDATA_API_URL, data={\n",
    "    'action': 'wbsetdescription',\n",
    "    'id': item,\n",
    "    'token': csrf,\n",
    "    'language': 'en',\n",
    "    'value': 'My super wikidata bot, current time: %s' % now.isoformat(),\n",
    "    'format': 'json',\n",
    "})\n",
    "res.json()"
   ]
  },
  {
   "cell_type": "code",
   "execution_count": 32,
   "metadata": {
    "slideshow": {
     "slide_type": "subslide"
    }
   },
   "outputs": [
    {
     "data": {
      "text/plain": [
       "{'language': 'en',\n",
       " 'value': 'My super wikidata bot, current time: 2019-11-02T20:14:42.285335'}"
      ]
     },
     "execution_count": 32,
     "metadata": {},
     "output_type": "execute_result"
    }
   ],
   "source": [
    "# request the item again\n",
    "res = session.get(WIKIDATA_API_URL, params={\n",
    "    'action': 'wbgetentities',\n",
    "    'ids': item,\n",
    "    'format': 'json',\n",
    "})\n",
    "result = res.json()\n",
    "result['entities']['Q15397819']['descriptions']['en']"
   ]
  },
  {
   "cell_type": "markdown",
   "metadata": {
    "slideshow": {
     "slide_type": "slide"
    }
   },
   "source": [
    "## Let's add a triple\n",
    "\n",
    "To add a triple, we use the [`wbcreateclaim`](https://www.wikidata.org/w/api.php?action=help&modules=wbcreateclaim) action. Let's see what parameters are needed."
   ]
  },
  {
   "cell_type": "code",
   "execution_count": 37,
   "metadata": {
    "slideshow": {
     "slide_type": "subslide"
    }
   },
   "outputs": [
    {
     "data": {
      "text/plain": [
       "{'error': {'code': 'invalid-snak',\n",
       "  'info': 'Invalid snak data.',\n",
       "  'messages': [{'name': 'wikibase-api-invalid-snak',\n",
       "    'parameters': [],\n",
       "    'html': {'*': 'Invalid snak data.'}}],\n",
       "  '*': 'See https://www.wikidata.org/w/api.php for API usage. Subscribe to the mediawiki-api-announce mailing list at &lt;https://lists.wikimedia.org/mailman/listinfo/mediawiki-api-announce&gt; for notice of API deprecations and breaking changes.'},\n",
       " 'servedby': 'mw1315'}"
      ]
     },
     "execution_count": 37,
     "metadata": {},
     "output_type": "execute_result"
    }
   ],
   "source": [
    "# generate csrf token\n",
    "res = session.get(WIKIDATA_API_URL, params={\n",
    "    'action': 'query',\n",
    "    'meta': 'tokens',\n",
    "    'type': 'csrf',\n",
    "    'format': 'json',\n",
    "})\n",
    "csrf = res.json()['query']['tokens']['csrftoken']\n",
    "csrf\n",
    "\n",
    "# add triple to item\n",
    "res = session.post(WIKIDATA_API_URL, data={\n",
    "    'action': 'wbcreateclaim',\n",
    "    'entity': item,\n",
    "    'token': csrf,\n",
    "    'snaktype': 'value',\n",
    "    'property': 'P106',\n",
    "    'value': {'entity-type': 'item', 'numeric-id': 212238},\n",
    "    'format': 'json',\n",
    "})\n",
    "res.json()"
   ]
  },
  {
   "cell_type": "code",
   "execution_count": null,
   "metadata": {},
   "outputs": [],
   "source": []
  }
 ],
 "metadata": {
  "celltoolbar": "Slideshow",
  "kernelspec": {
   "display_name": "Python 2",
   "language": "python",
   "name": "python2"
  },
  "language_info": {
   "codemirror_mode": {
    "name": "ipython",
    "version": 2
   },
   "file_extension": ".py",
   "mimetype": "text/x-python",
   "name": "python",
   "nbconvert_exporter": "python",
   "pygments_lexer": "ipython2",
   "version": "2.7.12"
  }
 },
 "nbformat": 4,
 "nbformat_minor": 2
}
